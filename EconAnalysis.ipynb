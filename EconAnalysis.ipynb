{
 "cells": [
  {
   "cell_type": "code",
   "execution_count": 3,
   "metadata": {
    "collapsed": false
   },
   "outputs": [],
   "source": [
    "import sys\n",
    "import numpy as np\n",
    "from datascience import *\n",
    "import math "
   ]
  },
  {
   "cell_type": "code",
   "execution_count": 29,
   "metadata": {
    "collapsed": false
   },
   "outputs": [],
   "source": [
    "cpi = Table().read_table(\"PI.csv\").relabeled(1, \"CPI\")\n",
    "#must find inflation RATES from CPI\n",
    "r = Table().read_table(\"R.csv\")\n",
    "#must change R.csv bc so many holes\n",
    "unemployment = Table().read_table(\"UNRATE.csv\").relabeled(1, \"unemployment rate\")\n",
    "potential_output = Table().read_table(\"Y*.csv\").relabeled(1, \"Y*\")\n",
    "output = Table().read_table(\"Y.csv\").relabeled(1, \"Y\")\n",
    "gdp = output.join(\"DATE\", potential_output)"
   ]
  },
  {
   "cell_type": "code",
   "execution_count": 31,
   "metadata": {
    "collapsed": false
   },
   "outputs": [
    {
     "data": {
      "text/html": [
       "<table border=\"1\" class=\"dataframe\">\n",
       "    <thead>\n",
       "        <tr>\n",
       "            <th>DATE</th> <th>Y</th> <th>Y*</th>\n",
       "        </tr>\n",
       "    </thead>\n",
       "    <tbody>\n",
       "        <tr>\n",
       "            <td>1949-01-01</td> <td>275.4</td> <td>2011.3</td>\n",
       "        </tr>\n",
       "    </tbody>\n",
       "        <tr>\n",
       "            <td>1949-04-01</td> <td>271.7</td> <td>2038.1</td>\n",
       "        </tr>\n",
       "    </tbody>\n",
       "        <tr>\n",
       "            <td>1949-07-01</td> <td>273.3</td> <td>2065.2</td>\n",
       "        </tr>\n",
       "    </tbody>\n",
       "        <tr>\n",
       "            <td>1949-10-01</td> <td>271  </td> <td>2092.6</td>\n",
       "        </tr>\n",
       "    </tbody>\n",
       "        <tr>\n",
       "            <td>1950-01-01</td> <td>281.2</td> <td>2120.1</td>\n",
       "        </tr>\n",
       "    </tbody>\n",
       "        <tr>\n",
       "            <td>1950-04-01</td> <td>290.7</td> <td>2147.2</td>\n",
       "        </tr>\n",
       "    </tbody>\n",
       "        <tr>\n",
       "            <td>1950-07-01</td> <td>308.5</td> <td>2174.7</td>\n",
       "        </tr>\n",
       "    </tbody>\n",
       "        <tr>\n",
       "            <td>1950-10-01</td> <td>320.3</td> <td>2202.5</td>\n",
       "        </tr>\n",
       "    </tbody>\n",
       "        <tr>\n",
       "            <td>1951-01-01</td> <td>336.4</td> <td>2230.8</td>\n",
       "        </tr>\n",
       "    </tbody>\n",
       "        <tr>\n",
       "            <td>1951-04-01</td> <td>344.5</td> <td>2260.7</td>\n",
       "        </tr>\n",
       "    </tbody>\n",
       "</table>\n",
       "<p>... (262 rows omitted)</p"
      ],
      "text/plain": [
       "DATE       | Y     | Y*\n",
       "1949-01-01 | 275.4 | 2011.3\n",
       "1949-04-01 | 271.7 | 2038.1\n",
       "1949-07-01 | 273.3 | 2065.2\n",
       "1949-10-01 | 271   | 2092.6\n",
       "1950-01-01 | 281.2 | 2120.1\n",
       "1950-04-01 | 290.7 | 2147.2\n",
       "1950-07-01 | 308.5 | 2174.7\n",
       "1950-10-01 | 320.3 | 2202.5\n",
       "1951-01-01 | 336.4 | 2230.8\n",
       "1951-04-01 | 344.5 | 2260.7\n",
       "... (262 rows omitted)"
      ]
     },
     "execution_count": 31,
     "metadata": {},
     "output_type": "execute_result"
    }
   ],
   "source": [
    "gdp"
   ]
  },
  {
   "cell_type": "code",
   "execution_count": null,
   "metadata": {
    "collapsed": true
   },
   "outputs": [],
   "source": []
  }
 ],
 "metadata": {
  "anaconda-cloud": {},
  "kernelspec": {
   "display_name": "Python [default]",
   "language": "python",
   "name": "python3"
  },
  "language_info": {
   "codemirror_mode": {
    "name": "ipython",
    "version": 3
   },
   "file_extension": ".py",
   "mimetype": "text/x-python",
   "name": "python",
   "nbconvert_exporter": "python",
   "pygments_lexer": "ipython3",
   "version": "3.5.2"
  }
 },
 "nbformat": 4,
 "nbformat_minor": 1
}
