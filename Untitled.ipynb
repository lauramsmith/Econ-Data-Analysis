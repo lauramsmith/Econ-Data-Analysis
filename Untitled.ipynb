{
 "cells": [
  {
   "cell_type": "code",
   "execution_count": 19,
   "metadata": {
    "collapsed": false
   },
   "outputs": [
    {
     "data": {
      "text/html": [
       "<table border=\"1\" class=\"dataframe\">\n",
       "    <thead>\n",
       "        <tr>\n",
       "            <th>Driver</th> <th>Donor 0me</th> <th>Pickup Fee</th> <th>Miles Traveled</th> <th>Driver Costs</th> <th>Pounds Recovered</th> <th>Meals Delivered</th>\n",
       "        </tr>\n",
       "    </thead>\n",
       "    <tbody>\n",
       "        <tr>\n",
       "            <td>Kelly Marumoto      </td> <td>Beepi                          </td> <td>$10.00    </td> <td>0             </td> <td>nan         </td> <td>0               </td> <td>0              </td>\n",
       "        </tr>\n",
       "    </tbody>\n",
       "        <tr>\n",
       "            <td>Philip Stith        </td> <td>thoughtspot                    </td> <td>$10.00    </td> <td>3.2           </td> <td>nan         </td> <td>25              </td> <td>21             </td>\n",
       "        </tr>\n",
       "    </tbody>\n",
       "        <tr>\n",
       "            <td>Kelly Marumoto      </td> <td>OpenGov                        </td> <td>$10.00    </td> <td>0             </td> <td>nan         </td> <td>0               </td> <td>0              </td>\n",
       "        </tr>\n",
       "    </tbody>\n",
       "        <tr>\n",
       "            <td>Maen Mahfoud        </td> <td>Yelp                           </td> <td>$10.00    </td> <td>2.7           </td> <td>nan         </td> <td>0               </td> <td>0              </td>\n",
       "        </tr>\n",
       "    </tbody>\n",
       "        <tr>\n",
       "            <td>Kelly Marumoto      </td> <td>R: CityTeam Ministries San Jose</td> <td>nan       </td> <td>0             </td> <td>-14         </td> <td>nan             </td> <td>nan            </td>\n",
       "        </tr>\n",
       "    </tbody>\n",
       "        <tr>\n",
       "            <td>Matthew Stephanovich</td> <td>R: Pier 80                     </td> <td>nan       </td> <td>2             </td> <td>-11.6       </td> <td>nan             </td> <td>nan            </td>\n",
       "        </tr>\n",
       "    </tbody>\n",
       "        <tr>\n",
       "            <td>Kelly Marumoto      </td> <td>OD: Origami Logic              </td> <td>$10.00    </td> <td>0             </td> <td>nan         </td> <td>60              </td> <td>50             </td>\n",
       "        </tr>\n",
       "    </tbody>\n",
       "        <tr>\n",
       "            <td>Matthew Stephanovich</td> <td>R: Saint Vincent de Paul       </td> <td>nan       </td> <td>0             </td> <td>-12         </td> <td>nan             </td> <td>nan            </td>\n",
       "        </tr>\n",
       "    </tbody>\n",
       "        <tr>\n",
       "            <td>Maen Mahfoud        </td> <td>OD: Open DNS                   </td> <td>$10.00    </td> <td>nan           </td> <td>nan         </td> <td>nan             </td> <td>nan            </td>\n",
       "        </tr>\n",
       "    </tbody>\n",
       "        <tr>\n",
       "            <td>Maen Mahfoud        </td> <td>R: Saint Vincent de Paul       </td> <td>nan       </td> <td>3.3           </td> <td>nan         </td> <td>nan             </td> <td>nan            </td>\n",
       "        </tr>\n",
       "    </tbody>\n",
       "</table>\n",
       "<p>... (5024 rows omitted)</p"
      ],
      "text/plain": [
       "Driver               | Donor 0me                       | Pickup Fee | Miles Traveled | Driver Costs | Pounds Recovered | Meals Delivered\n",
       "Kelly Marumoto       | Beepi                           | $10.00     | 0              | nan          | 0                | 0\n",
       "Philip Stith         | thoughtspot                     | $10.00     | 3.2            | nan          | 25               | 21\n",
       "Kelly Marumoto       | OpenGov                         | $10.00     | 0              | nan          | 0                | 0\n",
       "Maen Mahfoud         | Yelp                            | $10.00     | 2.7            | nan          | 0                | 0\n",
       "Kelly Marumoto       | R: CityTeam Ministries San Jose | nan        | 0              | -14          | nan              | nan\n",
       "Matthew Stephanovich | R: Pier 80                      | nan        | 2              | -11.6        | nan              | nan\n",
       "Kelly Marumoto       | OD: Origami Logic               | $10.00     | 0              | nan          | 60               | 50\n",
       "Matthew Stephanovich | R: Saint Vincent de Paul        | nan        | 0              | -12          | nan              | nan\n",
       "Maen Mahfoud         | OD: Open DNS                    | $10.00     | nan            | nan          | nan              | nan\n",
       "Maen Mahfoud         | R: Saint Vincent de Paul        | nan        | 3.3            | nan          | nan              | nan\n",
       "... (5024 rows omitted)"
      ]
     },
     "execution_count": 19,
     "metadata": {},
     "output_type": "execute_result"
    }
   ],
   "source": [
    "from datascience import *\n",
    "import numpy as np\n",
    "master = Table().read_table(\"Re-Plate.csv\")\n",
    "master = master.with_column(\"Driver\", [\"Matthew Stephanovich\" if x == \"Matthew Stepanovich\" else x for x in master.column(0)])\n",
    "master = master.with_column(\"Driver\", [ x.replace(\"0\", \"o\") for x in master.column(0)])\n",
    "master"
   ]
  },
  {
   "cell_type": "code",
   "execution_count": 22,
   "metadata": {
    "collapsed": false
   },
   "outputs": [],
   "source": [
    "def remove_duplicates(arr):\n",
    "    ans = []\n",
    "    for i in arr:\n",
    "        if i not in ans and i != \"nan\":\n",
    "            ans.append(i)\n",
    "    return ans"
   ]
  },
  {
   "cell_type": "code",
   "execution_count": 25,
   "metadata": {
    "collapsed": false
   },
   "outputs": [],
   "source": [
    "drivers = Table().with_column(\"Driver\", remove_duplicates(master.column(0)))\n",
    "drivers.to_csv(\"drivers.csv\")"
   ]
  },
  {
   "cell_type": "code",
   "execution_count": 35,
   "metadata": {
    "collapsed": false
   },
   "outputs": [],
   "source": [
    "donors_and_shelters = remove_duplicates(master.column(1))\n",
    "donors_only = []\n",
    "shelters_only = []\n",
    "for name in donors_and_shelters:\n",
    "    if \"R: \" in name or \"Shelter\" in name:\n",
    "        shelters_only.append(name)\n",
    "    else:\n",
    "        donors_only.append(name)"
   ]
  },
  {
   "cell_type": "code",
   "execution_count": 38,
   "metadata": {
    "collapsed": false
   },
   "outputs": [],
   "source": [
    "donors = Table().with_columns(\"Donor\",donors_only)\n",
    "shelters = Table().with_columns(\"Shelter\", shelters_only)\n",
    "donors.to_csv(\"donors.csv\")\n",
    "shelters.to_csv(\"shelters.csv\")"
   ]
  },
  {
   "cell_type": "code",
   "execution_count": null,
   "metadata": {
    "collapsed": true
   },
   "outputs": [],
   "source": []
  }
 ],
 "metadata": {
  "anaconda-cloud": {},
  "kernelspec": {
   "display_name": "Python [conda root]",
   "language": "python",
   "name": "conda-root-py"
  },
  "language_info": {
   "codemirror_mode": {
    "name": "ipython",
    "version": 3
   },
   "file_extension": ".py",
   "mimetype": "text/x-python",
   "name": "python",
   "nbconvert_exporter": "python",
   "pygments_lexer": "ipython3",
   "version": "3.5.2"
  }
 },
 "nbformat": 4,
 "nbformat_minor": 1
}
